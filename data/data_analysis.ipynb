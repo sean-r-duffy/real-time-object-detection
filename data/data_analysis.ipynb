{
 "cells": [
  {
   "cell_type": "markdown",
   "id": "e9f41800",
   "metadata": {},
   "source": [
    "### Nick Cantalupa and Sean Duffy\n",
    "\n",
    "This file does some basic analysis to calculate the performace of models in the different lighting and orientation situations."
   ]
  },
  {
   "cell_type": "code",
   "execution_count": 38,
   "id": "6ccf57dd",
   "metadata": {},
   "outputs": [],
   "source": [
    "import pandas as pd\n",
    "import numpy as np"
   ]
  },
  {
   "cell_type": "markdown",
   "id": "8d869c38",
   "metadata": {},
   "source": [
    "Import libraries"
   ]
  },
  {
   "cell_type": "code",
   "execution_count": 39,
   "id": "810e2d37",
   "metadata": {},
   "outputs": [
    {
     "data": {
      "text/plain": [
       "Index(['Object', 'CD000', 'CD090', 'CD180', 'CD270', 'CL000', 'CL090', 'CL180',\n",
       "       'CL270', 'RD000', 'RD090', 'RD180', 'RD270', 'RL000', 'RL090', 'RL180',\n",
       "       'RL270', 'YD000', 'YD090', 'YD180', 'YD270', 'YL000', 'YL090', 'YL180',\n",
       "       'YL270'],\n",
       "      dtype='object')"
      ]
     },
     "execution_count": 39,
     "metadata": {},
     "output_type": "execute_result"
    }
   ],
   "source": [
    "df = pd.read_csv('model_testing_data.csv')\n",
    "df.columns"
   ]
  },
  {
   "cell_type": "markdown",
   "id": "4574479d",
   "metadata": {},
   "source": [
    "Split the dataframes for analysis"
   ]
  },
  {
   "cell_type": "code",
   "execution_count": 40,
   "id": "10db1009",
   "metadata": {},
   "outputs": [],
   "source": [
    "classical_columns = ['CD000', 'CD090', 'CD180', 'CD270', 'CL000', 'CL090', 'CL180', 'CL270']\n",
    "resnet_columns = ['RD000', 'RD090', 'RD180', 'RD270', 'RL000', 'RL090', 'RL180', 'RL270']\n",
    "yolos_columns = ['YD000', 'YD090', 'YD180', 'YD270', 'YL000', 'YL090', 'YL180', 'YL270']"
   ]
  },
  {
   "cell_type": "code",
   "execution_count": 41,
   "id": "588a53cb",
   "metadata": {},
   "outputs": [],
   "source": [
    "classical = df[['Object'] + classical_columns]\n",
    "resnet = df[['Object'] + resnet_columns]\n",
    "yolos = df[['Object'] + yolos_columns]"
   ]
  },
  {
   "cell_type": "code",
   "execution_count": 42,
   "id": "1a68cb89",
   "metadata": {},
   "outputs": [
    {
     "name": "stdout",
     "output_type": "stream",
     "text": [
      "Classical accuracy: 58.33%\n",
      "Resnet accuracy: 79.17%\n",
      "Yolos accuracy: 45.83%\n"
     ]
    }
   ],
   "source": [
    "classcial_accuaracy = classical[classical_columns].sum().sum() / (classical[classical_columns].shape[0] * classical[classical_columns].shape[1]) * 100\n",
    "resnet_accuaracy = resnet[resnet_columns].sum().sum() / (resnet[resnet_columns].shape[0] * resnet[resnet_columns].shape[1]) * 100\n",
    "yolos_accuaracy = yolos[yolos_columns].sum().sum() / (yolos[yolos_columns].shape[0] * yolos[yolos_columns].shape[1]) * 100\n",
    "print(f'Classical accuracy: {classcial_accuaracy:.2f}%')\n",
    "print(f'Resnet accuracy: {resnet_accuaracy:.2f}%')\n",
    "print(f'Yolos accuracy: {yolos_accuaracy:.2f}%')"
   ]
  },
  {
   "cell_type": "markdown",
   "id": "f9c1dc19",
   "metadata": {},
   "source": [
    "FPS calculation from program outputs"
   ]
  },
  {
   "cell_type": "code",
   "execution_count": 43,
   "id": "2d237b23",
   "metadata": {},
   "outputs": [
    {
     "name": "stdout",
     "output_type": "stream",
     "text": [
      "Classical FPS: 3.88\n",
      "Resnet FPS: 0.56\n",
      "Yolos FPS: 2.03\n"
     ]
    }
   ],
   "source": [
    "classical_fps = 492/126.67\n",
    "resnet_fps = 51/91.42\n",
    "yolos_fps = 258/127.12\n",
    "print(f'Classical FPS: {classical_fps:.2f}')\n",
    "print(f'Resnet FPS: {resnet_fps:.2f}')\n",
    "print(f'Yolos FPS: {yolos_fps:.2f}')"
   ]
  },
  {
   "cell_type": "markdown",
   "id": "d611df33",
   "metadata": {},
   "source": [
    "Spliting dataframes into dark and light"
   ]
  },
  {
   "cell_type": "code",
   "execution_count": 44,
   "id": "ee278f2d",
   "metadata": {},
   "outputs": [],
   "source": [
    "classical_light = classical[[x for x in classical.columns if 'L' in x]]\n",
    "resnet_light = resnet[[x for x in resnet.columns if 'L' in x]]\n",
    "yolos_light = yolos[[x for x in yolos.columns if 'L' in x]]\n",
    "classical_dark = classical[[x for x in classical.columns if 'D' in x]]\n",
    "resnet_dark = resnet[[x for x in resnet.columns if 'D' in x]]\n",
    "yolos_dark = yolos[[x for x in yolos.columns if 'D' in x]]"
   ]
  },
  {
   "cell_type": "code",
   "execution_count": 45,
   "id": "a69a1491",
   "metadata": {},
   "outputs": [],
   "source": [
    "classical_light_accuaracy = classical_light.sum().sum() / (classical_light.shape[0] * classical_light.shape[1]) * 100\n",
    "resnet_light_accuaracy = resnet_light.sum().sum() / (resnet_light.shape[0] * resnet_light.shape[1]) * 100\n",
    "yolos_light_accuaracy = yolos_light.sum().sum() / (yolos_light.shape[0] * yolos_light.shape[1]) * 100\n",
    "classical_dark_accuaracy = classical_dark.sum().sum() / (classical_dark.shape[0] * classical_dark.shape[1]) * 100\n",
    "resnet_dark_accuaracy = resnet_dark.sum().sum() / (resnet_dark.shape[0] * resnet_dark.shape[1]) * 100\n",
    "yolos_dark_accuaracy = yolos_dark.sum().sum() / (yolos_dark.shape[0] * yolos_dark.shape[1]) * 100"
   ]
  },
  {
   "cell_type": "code",
   "execution_count": 46,
   "id": "cd5b2005",
   "metadata": {},
   "outputs": [
    {
     "name": "stdout",
     "output_type": "stream",
     "text": [
      "Classical dark accuracy: 41.67%\n",
      "Classical light accuracy: 75.00%\n",
      "Resnet dark accuracy: 80.56%\n",
      "Resnet light accuracy: 77.78%\n",
      "Yolos dark accuracy: 44.44%\n",
      "Yolos light accuracy: 47.22%\n"
     ]
    }
   ],
   "source": [
    "print(f'Classical dark accuracy: {classical_dark_accuaracy:.2f}%')\n",
    "print(f'Classical light accuracy: {classical_light_accuaracy:.2f}%')\n",
    "print(f'Resnet dark accuracy: {resnet_dark_accuaracy:.2f}%')\n",
    "print(f'Resnet light accuracy: {resnet_light_accuaracy:.2f}%')\n",
    "print(f'Yolos dark accuracy: {yolos_dark_accuaracy:.2f}%')\n",
    "print(f'Yolos light accuracy: {yolos_light_accuaracy:.2f}%')"
   ]
  },
  {
   "cell_type": "code",
   "execution_count": 47,
   "id": "93faf5c2",
   "metadata": {},
   "outputs": [
    {
     "name": "stdout",
     "output_type": "stream",
     "text": [
      "Dark to Light Difference Classical: 33.33%\n",
      "Dark to Light Difference Resnet: -2.78%\n",
      "Dark to Light Difference Yolos: 2.78%\n"
     ]
    }
   ],
   "source": [
    "print(f\"Dark to Light Difference Classical: {classical_light_accuaracy - classical_dark_accuaracy:.2f}%\")\n",
    "print(f\"Dark to Light Difference Resnet: {resnet_light_accuaracy - resnet_dark_accuaracy:.2f}%\")\n",
    "print(f\"Dark to Light Difference Yolos: {yolos_light_accuaracy - yolos_dark_accuaracy:.2f}%\")"
   ]
  },
  {
   "cell_type": "code",
   "execution_count": 48,
   "id": "b8a1d7e7",
   "metadata": {},
   "outputs": [
    {
     "name": "stdout",
     "output_type": "stream",
     "text": [
      "6.962454548409717\n",
      "1.913751351708615\n"
     ]
    }
   ],
   "source": [
    "print(classical_fps / resnet_fps)\n",
    "print(classical_fps / yolos_fps)"
   ]
  },
  {
   "cell_type": "markdown",
   "id": "93e1945e",
   "metadata": {},
   "source": [
    "## Observational Notes\n",
    "\n",
    "\n",
    "### Classical Methods\n",
    "- Runs about 7x faster than Resnet and about 2x faster than Yolos\n",
    "- Very easy to add training data for specific objects\n",
    "- Limited in situations, need white background\n",
    "- Doesn't take into account color in this project\n",
    "- Large dropoff with poor lighting\n",
    "- Struggles with reflective lighting\n",
    "\n",
    "### Resnet\n",
    "- Slowest model loading a frame about every two seconds\n",
    "- 41.5M parameters\n",
    "- Has a set number of categories, would need to finetune whole model for new items\n",
    "- Wider range of uses since can analyze images in real world\n",
    "\n",
    "### YOLOs\n",
    "- Second fastest at about 2 frames per second\n",
    "- 6.5M parameters\n",
    "- Has a set number of categories, would need to finetune whole model for new items\n",
    "- Wider range of uses since can analyze images in real world\n",
    "- Struggled with similarly shaped items\n"
   ]
  }
 ],
 "metadata": {
  "kernelspec": {
   "display_name": "base",
   "language": "python",
   "name": "python3"
  },
  "language_info": {
   "codemirror_mode": {
    "name": "ipython",
    "version": 3
   },
   "file_extension": ".py",
   "mimetype": "text/x-python",
   "name": "python",
   "nbconvert_exporter": "python",
   "pygments_lexer": "ipython3",
   "version": "3.9.18"
  }
 },
 "nbformat": 4,
 "nbformat_minor": 5
}
